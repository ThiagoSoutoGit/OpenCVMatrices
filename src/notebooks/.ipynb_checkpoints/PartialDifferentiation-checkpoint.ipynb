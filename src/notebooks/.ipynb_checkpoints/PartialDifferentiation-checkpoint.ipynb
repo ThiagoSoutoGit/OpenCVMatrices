{
 "cells": [
  {
   "cell_type": "markdown",
   "metadata": {
    "pycharm": {
     "name": "#%%\n"
    }
   },
   "source": [
    "# Partial Differentiation"
   ]
  },
  {
   "cell_type": "code",
   "execution_count": null,
   "metadata": {},
   "outputs": [],
   "source": [
    "import sympy"
   ]
  },
  {
   "cell_type": "markdown",
   "metadata": {},
   "source": [
    "## Creating symbols and displaying the first function\n",
    "\n",
    "### Example 1:"
   ]
  },
  {
   "cell_type": "code",
   "execution_count": 13,
   "metadata": {},
   "outputs": [
    {
     "name": "stdout",
     "output_type": "stream",
     "text": [
      "Example 1\n",
      "\n",
      "f =\n",
      "\n",
      "  4    3\n",
      "x  + y \n",
      "\n",
      "df/dx =\n",
      "\n",
      "      3\n",
      "4.0⋅x \n",
      "\n",
      "df/dy =\n",
      "\n",
      "      2\n",
      "3.0⋅y \n",
      "\n"
     ]
    }
   ],
   "source": [
    "x, y, z = sympy.symbols('x, y, z')\n",
    "\n",
    "print(\"Example 1\\n\")\n",
    "\n",
    "f = x ** 4 + y ** 3\n",
    "disp(\"f\", f)\n",
    "\n",
    "df_dx = sympy.diff(f, x)\n",
    "disp(\"df/dx\", df_dx)\n",
    "\n",
    "df_dy = sympy.diff(f, y)\n",
    "disp(\"df/dy\", df_dy)"
   ]
  },
  {
   "cell_type": "markdown",
   "metadata": {},
   "source": [
    "### Example 2:"
   ]
  },
  {
   "cell_type": "code",
   "execution_count": 20,
   "metadata": {},
   "outputs": [
    {
     "name": "stdout",
     "output_type": "stream",
     "text": [
      "Example 2\n",
      "\n",
      "f =\n",
      "\n",
      "      5        2  2  2        5\n",
      "2.0⋅x  - 8.0⋅x ⋅y ⋅z  + 3.0⋅y \n",
      "\n",
      "df/dx =\n",
      "\n",
      "       4           2  2\n",
      "10.0⋅x  - 16.0⋅x⋅y ⋅z \n",
      "\n",
      "df/dy =\n",
      "\n",
      "         2    2         4\n",
      "- 16.0⋅x ⋅y⋅z  + 15.0⋅y \n",
      "\n",
      "df/dz =\n",
      "\n",
      "        2  2  \n",
      "-16.0⋅x ⋅y ⋅z\n",
      "\n"
     ]
    }
   ],
   "source": [
    "print(\"Example 2\\n\")\n",
    "\n",
    "f = 2 * x ** 5 + 3 * y ** 5 - 8 * x ** 2 * y ** 2 * z ** 2\n",
    "disp(\"f\", f)\n",
    "\n",
    "df_dx = sympy.diff(f, x)\n",
    "disp(\"df/dx\", df_dx)\n",
    "\n",
    "df_dy = sympy.diff(f, y)\n",
    "disp(\"df/dy\", df_dy)\n",
    "\n",
    "df_dz = sympy.diff(f, z)\n",
    "disp(\"df/dz\", df_dz)"
   ]
  },
  {
   "cell_type": "markdown",
   "metadata": {},
   "source": [
    "### Example 3:"
   ]
  },
  {
   "cell_type": "code",
   "execution_count": 21,
   "metadata": {},
   "outputs": [
    {
     "name": "stdout",
     "output_type": "stream",
     "text": [
      "Example 3\n",
      "\n",
      "f =\n",
      "\n",
      "        2\n",
      "6.0⋅x⋅y \n",
      "\n",
      "df/dy =\n",
      "\n",
      " 12.0⋅x⋅y\n",
      "\n"
     ]
    }
   ],
   "source": [
    "print(\"Example 3\\n\")\n",
    "\n",
    "f = 6 * y ** 2 * x\n",
    "disp(\"f\", f)\n",
    "\n",
    "df_dy = sympy.diff(f, y)\n",
    "disp(\"df/dy\", df_dy)"
   ]
  },
  {
   "cell_type": "markdown",
   "metadata": {},
   "source": [
    "### Example 4:"
   ]
  },
  {
   "cell_type": "code",
   "execution_count": 22,
   "metadata": {},
   "outputs": [
    {
     "name": "stdout",
     "output_type": "stream",
     "text": [
      "Example 4\n",
      "\n",
      "f =\n",
      "\n",
      "        2  \n",
      "4.0⋅R⋅π ⋅r\n",
      "\n",
      "df/dR =\n",
      "\n",
      "      2  \n",
      "4.0⋅π ⋅r\n",
      "\n"
     ]
    }
   ],
   "source": [
    "print(\"Example 4\\n\")\n",
    "\n",
    "R, r, pi = sympy.symbols('R, r, pi')\n",
    "\n",
    "f = 4 * pi ** 2 * R * r\n",
    "disp(\"f\", f)\n",
    "\n",
    "df_dR = sympy.diff(f, R)\n",
    "disp(\"df/dR\", df_dR)\n",
    "\n",
    "l_1, l_2, theta_1, theta_2 = sympy.symbols('l_1, l_2, theta_1, theta_2')\n"
   ]
  },
  {
   "cell_type": "markdown",
   "metadata": {},
   "source": [
    "### Example 5 - The Jacobian from Frazer's Youtube"
   ]
  },
  {
   "cell_type": "code",
   "execution_count": 14,
   "metadata": {},
   "outputs": [
    {
     "name": "stdout",
     "output_type": "stream",
     "text": [
      "Yotube example: \n",
      "\n",
      "dfx/d t1 =\n",
      "\n",
      " -l₁⋅sin(θ₁) - l₂⋅sin(θ₁ + θ₂)\n",
      "\n",
      "\n",
      "dfx/d t2 =\n",
      "\n",
      " -l₂⋅sin(θ₁ + θ₂)\n",
      "\n",
      "\n",
      "dfy/d t1 =\n",
      "\n",
      " l₁⋅cos(θ₁) + l₂⋅cos(θ₁ + θ₂)\n",
      "\n",
      "\n",
      "dfy/d t2 =\n",
      "\n",
      " l₂⋅cos(θ₁ + θ₂)\n",
      "\n",
      "\n",
      "The Jacobian is:\n",
      "\n",
      "⎡-l₁⋅sin(θ₁) - l₂⋅sin(θ₁ + θ₂)  -l₂⋅sin(θ₁ + θ₂)⎤\n",
      "⎢                                               ⎥\n",
      "⎣l₁⋅cos(θ₁) + l₂⋅cos(θ₁ + θ₂)   l₂⋅cos(θ₁ + θ₂) ⎦\n"
     ]
    }
   ],
   "source": [
    "print('Yotube example: ')\n",
    "fx = l_1 * sympy.cos(theta_1) + l_2 * sympy.cos(theta_1 + theta_2)\n",
    "fy = l_1 * sympy.sin(theta_1) + l_2 * sympy.sin(theta_1 + theta_2)\n",
    "\n",
    "df_dx_t1 = sympy.diff(fx, theta_1)\n",
    "df_dx_t2 = sympy.diff(fx, theta_2)\n",
    "df_dy_t1 = sympy.diff(fy, theta_1)\n",
    "df_dy_t2 = sympy.diff(fy, theta_2)\n",
    "\n",
    "print()\n",
    "disp(\"dfx/d t1\", df_dx_t1)\n",
    "print()\n",
    "disp(\"dfx/d t2\", df_dx_t2)\n",
    "print()\n",
    "disp(\"dfy/d t1\", df_dy_t1)\n",
    "print()\n",
    "disp(\"dfy/d t2\", df_dy_t2)\n",
    "\n",
    "Jacobian = sympy.Matrix([[df_dx_t1, df_dx_t2],\n",
    "                         [df_dy_t1, df_dy_t2]])\n",
    "print()\n",
    "print('The Jacobian is:')\n",
    "print()\n",
    "print(sympy.pretty(Jacobian))"
   ]
  }
 ],
 "metadata": {
  "kernelspec": {
   "display_name": "Python 3.7.4 32-bit",
   "language": "python",
   "name": "python37432bitaf604a0f5dbd427e8bf85517b84fbb46"
  },
  "language_info": {
   "codemirror_mode": {
    "name": "ipython",
    "version": 3
   },
   "file_extension": ".py",
   "mimetype": "text/x-python",
   "name": "python",
   "nbconvert_exporter": "python",
   "pygments_lexer": "ipython3",
   "version": "3.7.4"
  }
 },
 "nbformat": 4,
 "nbformat_minor": 1
}
